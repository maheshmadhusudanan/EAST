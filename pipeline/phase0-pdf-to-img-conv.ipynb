{
 "cells": [
  {
   "cell_type": "code",
   "execution_count": 6,
   "metadata": {},
   "outputs": [],
   "source": [
    "import time  \n",
    "from watchdog.observers import Observer  \n",
    "from watchdog.events import PatternMatchingEventHandler  \n",
    "from pdf2image import convert_from_path\n",
    "import os"
   ]
  },
  {
   "cell_type": "code",
   "execution_count": 15,
   "metadata": {},
   "outputs": [],
   "source": [
    "process_filename = \"128_2015_Sample 5.pdf\"\n",
    "sample_images_path = os.path.join(os.path.dirname(os.path.realpath(\"__file__\")),\"../../\",\"sample-images\",\"Acord_128_2015_Samples\")\n",
    "output_path = os.path.dirname(os.path.realpath(\"__file__\")) + \"/output\""
   ]
  },
  {
   "cell_type": "code",
   "execution_count": 18,
   "metadata": {},
   "outputs": [],
   "source": [
    "class Pdf2ImageConvertorHandler(PatternMatchingEventHandler):\n",
    "\n",
    "    patterns = [\"*.pdf\"]\n",
    "    \n",
    "    output_path = os.path.dirname(os.path.realpath(\"__file__\")) + \"/output\"\n",
    "    \n",
    "    def on_created(self, event):\n",
    "        self.process(event)\n",
    "    \n",
    "    def process(self, event):\n",
    "        \n",
    "        pages = convert_from_path(event.src_path)\n",
    "        pdf_file = event.src_path[:-4]\n",
    "        print (\"processed \"+sample_images_path+ \" pages = \"+str(len(pages)))\n",
    "\n",
    "        for page in pages:\n",
    "            outfile = os.path.join(output_path , (pdf_file.replace(\" \",\"-\"))+(\"-page%d.jpg\" % (pages.index(page))));\n",
    "            print (\"saving...\"+outfile)\n",
    "            page.save(outfile, \"JPEG\")\n",
    "            "
   ]
  },
  {
   "cell_type": "code",
   "execution_count": 45,
   "metadata": {},
   "outputs": [
    {
     "name": "stdout",
     "output_type": "stream",
     "text": [
      "about to process /mnt/c/Users/mahesh.m/Documents/ProjPyWorkspace/EAST/pipeline/../../sample-images/Acord_128_2015_Samples/128_2015_Sample 5.pdf pages = 4\n",
      "saving.../mnt/c/Users/mahesh.m/Documents/ProjPyWorkspace/EAST/pipeline/output/128_2015_Sample-5-page0.jpg\n",
      "saving.../mnt/c/Users/mahesh.m/Documents/ProjPyWorkspace/EAST/pipeline/output/128_2015_Sample-5-page1.jpg\n",
      "saving.../mnt/c/Users/mahesh.m/Documents/ProjPyWorkspace/EAST/pipeline/output/128_2015_Sample-5-page2.jpg\n",
      "saving.../mnt/c/Users/mahesh.m/Documents/ProjPyWorkspace/EAST/pipeline/output/128_2015_Sample-5-page3.jpg\n"
     ]
    }
   ],
   "source": [
    "# conv = new Pdf2ImageConvertorHandler()\n",
    "pages = convert_from_path(sample_images_path)\n",
    "pdf_file = process_filename[:-4]\n",
    "print (\"about to process \"+sample_images_path+ \" pages = \"+str(len(pages)))\n",
    "\n",
    "for page in pages:\n",
    "    outfile = os.path.join(output_path , (pdf_file.replace(\" \",\"-\"))+(\"-page%d.jpg\" % (pages.index(page))));\n",
    "    print (\"saving...\"+outfile)\n",
    "    page.save(outfile, \"JPEG\")"
   ]
  },
  {
   "cell_type": "code",
   "execution_count": null,
   "metadata": {},
   "outputs": [],
   "source": []
  },
  {
   "cell_type": "code",
   "execution_count": null,
   "metadata": {},
   "outputs": [],
   "source": []
  }
 ],
 "metadata": {
  "kernelspec": {
   "display_name": "py3",
   "language": "python",
   "name": "py3"
  },
  "language_info": {
   "codemirror_mode": {
    "name": "ipython",
    "version": 3
   },
   "file_extension": ".py",
   "mimetype": "text/x-python",
   "name": "python",
   "nbconvert_exporter": "python",
   "pygments_lexer": "ipython3",
   "version": "3.6.8"
  }
 },
 "nbformat": 4,
 "nbformat_minor": 2
}
