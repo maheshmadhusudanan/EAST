{
 "cells": [
  {
   "cell_type": "code",
   "execution_count": 1,
   "metadata": {},
   "outputs": [],
   "source": [
    "import time  \n",
    "from watchdog.observers import Observer  \n",
    "from watchdog.events import PatternMatchingEventHandler  \n",
    "from pdf2image import convert_from_path\n",
    "import os\n",
    "import uuid\n",
    "import sys\n",
    "import json\n",
    "from os import path\n"
   ]
  },
  {
   "cell_type": "code",
   "execution_count": 2,
   "metadata": {},
   "outputs": [],
   "source": [
    "class PipelineFileName:\n",
    "    \n",
    "    def __init__(self, original_file_name=None, task_file_name=None, page_num=\"0\", phase=\"0\", output_file_ext=\".jpg\"):\n",
    "        \n",
    "        if (task_file_name != None):\n",
    "            fname_split = task_file_name.split(\"_\")\n",
    "            assert(len(fname_split) == 3)\n",
    "            self.original_file_name = None\n",
    "            self.unique_id = fname_split[0]\n",
    "            self.page_num = fname_split[1].replace(\"pg-\",\"\")\n",
    "            self.phase = fname_split[2].replace(\"ph-\",\"\")    \n",
    "        else:\n",
    "            self.original_file_name = original_file_name\n",
    "            self.unique_id = str(uuid.uuid5(uuid.NAMESPACE_OID,original_file_name))+\"-\"+str(uuid.uuid4())[:8]            \n",
    "            self.page_num = str(page_num)\n",
    "            self.phase = str(phase)\n",
    "        \n",
    "        self.file_ext = str(path.splitext(original_file_name)[1])\n",
    "        self.output_file_ext = str(output_file_ext)\n",
    "\n",
    "    def to_string(self):\n",
    "        return \"({0}, {1})\".format(self.__unique_id, self.__file_ext)\n",
    "\n",
    "    @property\n",
    "    def phase(self):   \n",
    "        return self.__phase\n",
    "\n",
    "    @phase.setter\n",
    "    def phase(self, v):        \n",
    "        self.__phase = v if v == \"0\" else self.__phase+\"-\"+v\n",
    "        \n",
    "    @property\n",
    "    def page_num(self):   \n",
    "        return self.__page_num\n",
    "\n",
    "    @page_num.setter\n",
    "    def page_num(self, v):\n",
    "        self.__page_num = v\n",
    "    \n",
    "    @property\n",
    "    def file_ext(self):   \n",
    "        return self.__file_ext\n",
    "\n",
    "    @file_ext.setter\n",
    "    def file_ext(self, v):\n",
    "        self.__file_ext = v\n",
    "\n",
    "    @property\n",
    "    def original_file_name(self):   \n",
    "        return self.__original_file_name\n",
    "\n",
    "    @original_file_name.setter\n",
    "    def original_file_name(self, v):\n",
    "        self.__original_file_name = v\n",
    "\n",
    "    @property\n",
    "    def unique_id(self):        \n",
    "        return self.__unique_id\n",
    "\n",
    "    @unique_id.setter\n",
    "    def unique_id(self, v):       \n",
    "        self.__unique_id = v\n",
    "\n",
    "    @property\n",
    "    def output_file_ext(self):        \n",
    "        return self.__output_file_ext\n",
    "\n",
    "    @unique_id.setter\n",
    "    def output_file_ext(self, v):       \n",
    "        self.__output_file_ext = v\n",
    "\n",
    "    @property\n",
    "    def task_output_file_name(self):        \n",
    "        return self.__unique_id+\"_pg-\"+str(self.__page_num) + \"_ph-\"+str(self.__phase)+str(self.__output_file_ext)\n",
    "\n",
    "    "
   ]
  },
  {
   "cell_type": "code",
   "execution_count": null,
   "metadata": {},
   "outputs": [],
   "source": [
    "process_filename = \"128_2015_Sample_5.pdf\"\n",
    "sample_images_path = os.path.join(os.path.dirname(os.path.realpath(\"__file__\")),\"../../\",\"sample-images\",\"Acord_128_2015_Samples\")\n",
    "output_path = os.path.dirname(os.path.realpath(\"__file__\")) + \"/output\""
   ]
  },
  {
   "cell_type": "code",
   "execution_count": null,
   "metadata": {},
   "outputs": [],
   "source": [
    "print(process_filename)\n",
    "pif = PipelineFileName(process_filename)"
   ]
  },
  {
   "cell_type": "code",
   "execution_count": null,
   "metadata": {},
   "outputs": [],
   "source": [
    "pif.original_file_name = \"test\"\n",
    "print(pif.original_file_name)"
   ]
  },
  {
   "cell_type": "code",
   "execution_count": 12,
   "metadata": {},
   "outputs": [
    {
     "name": "stdout",
     "output_type": "stream",
     "text": [
      "da2f9b47-5b25-5a89-b3db-f4726d3b81e9-13d41222_pg-0_ph-0\n",
      "da2f9b47-5b25-5a89-b3db-f4726d3b81e9-13d41222\n",
      "0\n",
      "ph-0\n"
     ]
    }
   ],
   "source": [
    "name = \"da2f9b47-5b25-5a89-b3db-f4726d3b81e9-13d41222_pg-0_ph-0.jpg\"\n",
    "namesplit = path.splitext(name)[0]\n",
    "print(namesplit)\n",
    "sp = namesplit.split(\"_\")\n",
    "print (sp[0])\n",
    "print (sp[1].replace(\"pg-\",\"\"))\n",
    "print (sp[2])"
   ]
  },
  {
   "cell_type": "code",
   "execution_count": 5,
   "metadata": {},
   "outputs": [
    {
     "ename": "AttributeError",
     "evalue": "'PipelineFileName' object has no attribute '_PipelineFileName__phase'",
     "output_type": "error",
     "traceback": [
      "\u001b[0;31m---------------------------------------------------------------------------\u001b[0m",
      "\u001b[0;31mAttributeError\u001b[0m                            Traceback (most recent call last)",
      "\u001b[0;32m<ipython-input-5-47d31b337006>\u001b[0m in \u001b[0;36m<module>\u001b[0;34m\u001b[0m\n\u001b[0;32m----> 1\u001b[0;31m \u001b[0mpif2\u001b[0m \u001b[0;34m=\u001b[0m \u001b[0mPipelineFileName\u001b[0m\u001b[0;34m(\u001b[0m\u001b[0mtask_file_name\u001b[0m\u001b[0;34m=\u001b[0m\u001b[0;34m\"da2f9b47-5b25-5a89-b3db-f4726d3b81e9-13d41222_pg-0_ph-0.jpg\"\u001b[0m\u001b[0;34m)\u001b[0m\u001b[0;34m\u001b[0m\u001b[0;34m\u001b[0m\u001b[0m\n\u001b[0m",
      "\u001b[0;32m<ipython-input-2-bcb1e5f5c0ad>\u001b[0m in \u001b[0;36m__init__\u001b[0;34m(self, original_file_name, task_file_name, page_num, phase, output_file_ext)\u001b[0m\n\u001b[1;32m      9\u001b[0m             \u001b[0mself\u001b[0m\u001b[0;34m.\u001b[0m\u001b[0munique_id\u001b[0m \u001b[0;34m=\u001b[0m \u001b[0mfname_split\u001b[0m\u001b[0;34m[\u001b[0m\u001b[0;36m0\u001b[0m\u001b[0;34m]\u001b[0m\u001b[0;34m\u001b[0m\u001b[0;34m\u001b[0m\u001b[0m\n\u001b[1;32m     10\u001b[0m             \u001b[0mself\u001b[0m\u001b[0;34m.\u001b[0m\u001b[0mpage_num\u001b[0m \u001b[0;34m=\u001b[0m \u001b[0mfname_split\u001b[0m\u001b[0;34m[\u001b[0m\u001b[0;36m1\u001b[0m\u001b[0;34m]\u001b[0m\u001b[0;34m.\u001b[0m\u001b[0mreplace\u001b[0m\u001b[0;34m(\u001b[0m\u001b[0;34m\"pg-\"\u001b[0m\u001b[0;34m,\u001b[0m\u001b[0;34m\"\"\u001b[0m\u001b[0;34m)\u001b[0m\u001b[0;34m\u001b[0m\u001b[0;34m\u001b[0m\u001b[0m\n\u001b[0;32m---> 11\u001b[0;31m             \u001b[0mself\u001b[0m\u001b[0;34m.\u001b[0m\u001b[0mphase\u001b[0m \u001b[0;34m=\u001b[0m \u001b[0mfname_split\u001b[0m\u001b[0;34m[\u001b[0m\u001b[0;36m2\u001b[0m\u001b[0;34m]\u001b[0m\u001b[0;34m.\u001b[0m\u001b[0mreplace\u001b[0m\u001b[0;34m(\u001b[0m\u001b[0;34m\"ph-\"\u001b[0m\u001b[0;34m,\u001b[0m\u001b[0;34m\"\"\u001b[0m\u001b[0;34m)\u001b[0m\u001b[0;34m\u001b[0m\u001b[0;34m\u001b[0m\u001b[0m\n\u001b[0m\u001b[1;32m     12\u001b[0m         \u001b[0;32melse\u001b[0m\u001b[0;34m:\u001b[0m\u001b[0;34m\u001b[0m\u001b[0;34m\u001b[0m\u001b[0m\n\u001b[1;32m     13\u001b[0m             \u001b[0mself\u001b[0m\u001b[0;34m.\u001b[0m\u001b[0moriginal_file_name\u001b[0m \u001b[0;34m=\u001b[0m \u001b[0moriginal_file_name\u001b[0m\u001b[0;34m\u001b[0m\u001b[0;34m\u001b[0m\u001b[0m\n",
      "\u001b[0;32m<ipython-input-2-bcb1e5f5c0ad>\u001b[0m in \u001b[0;36mphase\u001b[0;34m(self, v)\u001b[0m\n\u001b[1;32m     28\u001b[0m     \u001b[0;34m@\u001b[0m\u001b[0mphase\u001b[0m\u001b[0;34m.\u001b[0m\u001b[0msetter\u001b[0m\u001b[0;34m\u001b[0m\u001b[0;34m\u001b[0m\u001b[0m\n\u001b[1;32m     29\u001b[0m     \u001b[0;32mdef\u001b[0m \u001b[0mphase\u001b[0m\u001b[0;34m(\u001b[0m\u001b[0mself\u001b[0m\u001b[0;34m,\u001b[0m \u001b[0mv\u001b[0m\u001b[0;34m)\u001b[0m\u001b[0;34m:\u001b[0m\u001b[0;34m\u001b[0m\u001b[0;34m\u001b[0m\u001b[0m\n\u001b[0;32m---> 30\u001b[0;31m         \u001b[0mself\u001b[0m\u001b[0;34m.\u001b[0m\u001b[0m__phase\u001b[0m \u001b[0;34m=\u001b[0m \u001b[0mv\u001b[0m \u001b[0;32mif\u001b[0m \u001b[0mv\u001b[0m \u001b[0;34m==\u001b[0m \u001b[0;34m\"0\"\u001b[0m \u001b[0;32melse\u001b[0m \u001b[0mself\u001b[0m\u001b[0;34m.\u001b[0m\u001b[0m__phase\u001b[0m\u001b[0;34m+\u001b[0m\u001b[0;34m\"-\"\u001b[0m\u001b[0;34m+\u001b[0m\u001b[0mv\u001b[0m\u001b[0;34m\u001b[0m\u001b[0;34m\u001b[0m\u001b[0m\n\u001b[0m\u001b[1;32m     31\u001b[0m \u001b[0;34m\u001b[0m\u001b[0m\n\u001b[1;32m     32\u001b[0m     \u001b[0;34m@\u001b[0m\u001b[0mproperty\u001b[0m\u001b[0;34m\u001b[0m\u001b[0;34m\u001b[0m\u001b[0m\n",
      "\u001b[0;31mAttributeError\u001b[0m: 'PipelineFileName' object has no attribute '_PipelineFileName__phase'"
     ]
    }
   ],
   "source": [
    "pif2 = PipelineFileName(task_file_name=\"da2f9b47-5b25-5a89-b3db-f4726d3b81e9-13d41222_pg-0_ph-0.jpg\")"
   ]
  },
  {
   "cell_type": "code",
   "execution_count": null,
   "metadata": {},
   "outputs": [],
   "source": [
    "class Pdf2ImageConvertorHandler(PatternMatchingEventHandler):\n",
    "\n",
    "    patterns = [\"*.pdf\"]\n",
    "    \n",
    "    output_path = os.path.dirname(os.path.realpath(\"__file__\")) + \"/output\"\n",
    "    \n",
    "    def on_created(self, event):\n",
    "        self.process(event)\n",
    "    \n",
    "    def process(self, event):\n",
    "        \n",
    "        pages = convert_from_path(event.src_path)\n",
    "        pdf_file = event.src_path[:-4]\n",
    "        print (\"processed \"+sample_images_path+ \" pages = \"+str(len(pages)))\n",
    "\n",
    "        for page in pages:\n",
    "            outfile = os.path.join(output_path , (pdf_file.replace(\" \",\"-\"))+(\"-page%d.jpg\" % (pages.index(page))));\n",
    "            print (\"saving...\"+outfile)\n",
    "            page.save(outfile, \"JPEG\")\n",
    "            "
   ]
  },
  {
   "cell_type": "code",
   "execution_count": null,
   "metadata": {},
   "outputs": [],
   "source": [
    "# conv = new Pdf2ImageConvertorHandler()\n",
    "pages = convert_from_path(sample_images_path)\n",
    "pdf_file = process_filename[:-4]\n",
    "print (\"about to process \"+sample_images_path+ \" pages = \"+str(len(pages)))\n",
    "\n",
    "for page in pages:\n",
    "    outfile = os.path.join(output_path , (pdf_file.replace(\" \",\"-\"))+(\"-page%d.jpg\" % (pages.index(page))));\n",
    "    print (\"saving...\"+outfile)\n",
    "    page.save(outfile, \"JPEG\")"
   ]
  },
  {
   "cell_type": "code",
   "execution_count": null,
   "metadata": {},
   "outputs": [],
   "source": [
    "print(str(uuid.uuid4()))\n",
    "unique_trans_id = str(uuid.uuid5(uuid.NAMESPACE_OID,pdf_file))+\"_\"+str(uuid.uuid4())[:8]\n",
    "print(unique_trans_id)\n",
    "unique_trans_id = str(uuid.uuid5(uuid.NAMESPACE_OID,pdf_file))+\"_\"+str(uuid.uuid4())[:5]\n",
    "print(unique_trans_id)\n",
    "unique_trans_id = str(uuid.uuid5(uuid.NAMESPACE_OID,pdf_file))+\"_\"+str(uuid.uuid4())[:5]\n",
    "print(unique_trans_id)\n",
    "unique_trans_id = str(uuid.uuid5(uuid.NAMESPACE_OID,pdf_file))+\"_\"+str(uuid.uuid4())[:5]\n",
    "print(unique_trans_id)"
   ]
  },
  {
   "cell_type": "code",
   "execution_count": null,
   "metadata": {},
   "outputs": [],
   "source": []
  },
  {
   "cell_type": "code",
   "execution_count": null,
   "metadata": {},
   "outputs": [],
   "source": []
  }
 ],
 "metadata": {
  "kernelspec": {
   "display_name": "py3",
   "language": "python",
   "name": "py3"
  },
  "language_info": {
   "codemirror_mode": {
    "name": "ipython",
    "version": 3
   },
   "file_extension": ".py",
   "mimetype": "text/x-python",
   "name": "python",
   "nbconvert_exporter": "python",
   "pygments_lexer": "ipython3",
   "version": "3.6.8"
  }
 },
 "nbformat": 4,
 "nbformat_minor": 2
}
