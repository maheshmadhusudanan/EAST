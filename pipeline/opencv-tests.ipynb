{
 "cells": [
  {
   "cell_type": "code",
   "execution_count": 1,
   "metadata": {},
   "outputs": [],
   "source": [
    "import cv2\n",
    "import numpy as np\n",
    "import imutils\n",
    "import os\n",
    "import shutil\n",
    "from matplotlib import pyplot as plt\n",
    "from IPython.display import Image \n",
    "from PIL import Image        \n",
    "from types import SimpleNamespace\n",
    "import random as rng\n",
    "from skimage import io, morphology, img_as_bool, segmentation\n",
    "from scipy import ndimage as ndi\n",
    "import pprint\n",
    "import itertools as it\n",
    "\n",
    "rng.seed(12345)\n",
    "pp = pprint.PrettyPrinter(indent=4)\n",
    "\n",
    "\n",
    "\n",
    "\n",
    "# to load images"
   ]
  },
  {
   "cell_type": "code",
   "execution_count": 2,
   "metadata": {},
   "outputs": [],
   "source": [
    "file_ready_for_lines_detection = os.path.join(os.path.dirname(os.path.realpath(\"__file__\")),\"phase0-output/processed/88d1c53a-4933-55ab-9223-3d14f4d87a07-e6722290_pg-0_sg-0_M.jpg\")\n",
    "# input_file = os.path.join(os.path.dirname(os.path.realpath(\"__file__\")),\"phase0-output/processed/b2432346-2637-5e69-a752-128f71c1bb44-1d8625b3_pg-0_sg-0.jpg\")\n",
    "input_file = os.path.join(os.path.dirname(os.path.realpath(\"__file__\")),\"phase0-output/processed/88d1c53a-4933-55ab-9223-3d14f4d87a07-e6722290_pg-0_sg-0_M.jpg\")"
   ]
  },
  {
   "cell_type": "code",
   "execution_count": 3,
   "metadata": {},
   "outputs": [],
   "source": [
    "# img = cv2.imread(file_ready_for_lines_detection)\n",
    "img = cv2.imread(input_file)\n",
    "orig_img = cv2.imread(input_file)\n",
    "line_only_img = cv2.imread(file_ready_for_lines_detection)"
   ]
  },
  {
   "cell_type": "code",
   "execution_count": null,
   "metadata": {},
   "outputs": [],
   "source": [
    "gray = cv2.cvtColor(img, cv2.COLOR_BGR2GRAY)\n",
    "display(Image.fromarray(gray))"
   ]
  },
  {
   "cell_type": "code",
   "execution_count": null,
   "metadata": {},
   "outputs": [],
   "source": [
    "(thresh, img_gray) = cv2.threshold(gray, 128, 255,cv2.THRESH_OTSU)\n",
    "img_bin = 255-img_gray\n",
    "display(Image.fromarray(img_bin))"
   ]
  },
  {
   "cell_type": "markdown",
   "metadata": {},
   "source": [
    "## Trial 1 - sobel x .y"
   ]
  },
  {
   "cell_type": "code",
   "execution_count": null,
   "metadata": {},
   "outputs": [],
   "source": [
    "laplacian = cv2.Laplacian(img_bin,cv2.CV_64F)\n",
    "sobelx = cv2.Sobel(img_bin,cv2.CV_64F,1,0,ksize=5)\n",
    "sobely = cv2.Sobel(img_bin,cv2.CV_64F,0,1,ksize=5)\n",
    "\n",
    "d = Image.fromarray(sobelx)\n",
    "display(d.convert(\"L\"))"
   ]
  },
  {
   "cell_type": "code",
   "execution_count": null,
   "metadata": {},
   "outputs": [],
   "source": [
    "d = Image.fromarray(sobely)\n",
    "display(d.convert(\"L\"))"
   ]
  },
  {
   "cell_type": "code",
   "execution_count": null,
   "metadata": {},
   "outputs": [],
   "source": [
    "(thresh, img_bin) = cv2.threshold(sobelx, 128, 255,cv2.THRESH_BINARY|cv2.THRESH_OTSU)\n",
    "img_bin = 255-img_bin "
   ]
  },
  {
   "cell_type": "code",
   "execution_count": null,
   "metadata": {},
   "outputs": [],
   "source": [
    "verticle_kernel = cv2.getStructuringElement(cv2.MORPH_RECT, (1, 4))\n",
    "# A horizontal kernel of (kernel_length X 1), which will help to detect all the horizontal line from the image.\n",
    "hori_kernel = cv2.getStructuringElement(cv2.MORPH_RECT, (3, 1))\n",
    "print(hori_kernel)\n",
    "print(verticle_kernel)"
   ]
  },
  {
   "cell_type": "code",
   "execution_count": null,
   "metadata": {},
   "outputs": [],
   "source": [
    "temp_img = cv2.erode(img_bin, hori_kernel, iterations=1)\n",
    "temp_img2 = cv2.dilate(horizontal_lines_img, hori_kernel, iterations=5)\n",
    "# morpho close vertical\n",
    "vertical_lines_img = cv2.erode(img_bin, verticle_kernel, iterations=1)\n",
    "vertical_lines_img = cv2.dilate(vertical_lines_img, verticle_kernel, iterations=5)"
   ]
  },
  {
   "cell_type": "code",
   "execution_count": null,
   "metadata": {},
   "outputs": [],
   "source": [
    "display(Image.fromarray(vertical_lines_img))"
   ]
  },
  {
   "cell_type": "code",
   "execution_count": null,
   "metadata": {},
   "outputs": [],
   "source": [
    "display(Image.fromarray(horizontal_lines_img))"
   ]
  },
  {
   "cell_type": "code",
   "execution_count": null,
   "metadata": {},
   "outputs": [],
   "source": [
    "# Weighting parameters, this will decide the quantity of an image to be added to make a new image.\n",
    "alpha = 0.5\n",
    "beta = 1.0 - alpha\n",
    "# This function helps to add two image with specific weight parameter to get a third image as summation of two image.\n",
    "img_final_bin = cv2.addWeighted(vertical_lines_img, alpha, horizontal_lines_img, beta, 0.0)\n",
    "display((Image.fromarray(img_final_bin)).convert('L'))"
   ]
  },
  {
   "cell_type": "code",
   "execution_count": null,
   "metadata": {},
   "outputs": [],
   "source": [
    "contours, hierarchy = cv2.findContours((Image.fromarray(img_final_bin).convert('L')), cv2.RETR_TREE, cv2.CHAIN_APPROX_SIMPLE)\n",
    "id= -1\n",
    "overlay_img = cv2.imread(input_file)\n",
    "boundRect = [None]*len(contours)\n",
    "for cnt in contours:\n",
    "    approx = cv2.approxPolyDP(cnt,0.01*cv2.arcLength(cnt,True),True)    \n",
    "    if len(approx)==4 and cv2.contourArea(cnt) > 100:\n",
    "#         print(cv2.contourArea(cnt))\n",
    "        color = (128,35, 125)\n",
    "        id+=1\n",
    "#       cv2.drawContours(img,[cnt],0,((id*id)%255,(id*10)%255,255),-1)\n",
    "        boundRect[id] = cv2.boundingRect(approx)\n",
    "        cv2.rectangle(overlay_img, (int(boundRect[id][0]), int(boundRect[id][1])),           (int(boundRect[id][0]+boundRect[id][2]), int(boundRect[id][1]+boundRect[id][3])), color, 3) \n",
    "        "
   ]
  },
  {
   "cell_type": "markdown",
   "metadata": {},
   "source": [
    "## Trial 2 - skiimage"
   ]
  },
  {
   "cell_type": "code",
   "execution_count": null,
   "metadata": {},
   "outputs": [],
   "source": [
    "image = img_as_bool(img_bin)\n",
    "# plt.imshow(image, cmap='gray')"
   ]
  },
  {
   "cell_type": "code",
   "execution_count": null,
   "metadata": {},
   "outputs": [],
   "source": [
    "verticle_kernel = cv2.getStructuringElement(cv2.MORPH_RECT, (1, 3))\n",
    "# A horizontal kernel of (kernel_length X 1), which will help to detect all the horizontal line from the image.\n",
    "hori_kernel = cv2.getStructuringElement(cv2.MORPH_RECT, (3, 1))\n",
    "print(hori_kernel)\n",
    "print(verticle_kernel)"
   ]
  },
  {
   "cell_type": "code",
   "execution_count": null,
   "metadata": {},
   "outputs": [],
   "source": [
    "horizontal_lines_img = cv2.erode(img_bin, hori_kernel, iterations=5)\n",
    "horizontal_lines_img = cv2.dilate(horizontal_lines_img, hori_kernel, iterations=5)\n",
    "# morpho close vertical\n",
    "vertical_lines_img = cv2.erode(img_bin, verticle_kernel, iterations=5)\n",
    "vertical_lines_img = cv2.dilate(vertical_lines_img, verticle_kernel, iterations=5)"
   ]
  },
  {
   "cell_type": "code",
   "execution_count": null,
   "metadata": {},
   "outputs": [],
   "source": [
    "display(Image.fromarray(vertical_lines_img))"
   ]
  },
  {
   "cell_type": "code",
   "execution_count": null,
   "metadata": {},
   "outputs": [],
   "source": [
    "display(Image.fromarray(horizontal_lines_img))"
   ]
  },
  {
   "cell_type": "code",
   "execution_count": null,
   "metadata": {},
   "outputs": [],
   "source": [
    "image = horizontal_lines_img\n",
    "out = ndi.distance_transform_edt(~horizontal_lines_img)\n",
    "out = out < 0.01 * out.max()\n",
    "out = morphology.skeletonize(out)\n",
    "out = morphology.binary_dilation(out, morphology.selem.disk(5))\n",
    "out = segmentation.clear_border(out)\n",
    "out = out | image\n",
    "plt_show(out)\n",
    "\n",
    "horiz_out = out\n",
    "image = vertical_lines_img\n",
    "out = ndi.distance_transform_edt(~vertical_lines_img)\n",
    "out = out < 0.01 * out.max()\n",
    "out = morphology.skeletonize(out)\n",
    "out = morphology.binary_dilation(out, morphology.selem.disk(5))\n",
    "out = segmentation.clear_border(out)\n",
    "out = out | image\n",
    "out = horiz_out | out\n",
    "# plt_show(out)\n",
    "# plt.imsave('gaps_filled.jpg', out, cmap='gray')\n"
   ]
  },
  {
   "cell_type": "code",
   "execution_count": null,
   "metadata": {},
   "outputs": [],
   "source": [
    "import matplotlib as mpl\n",
    "\n",
    "def plt_show(img, cmap='gray'):\n",
    "    \n",
    "    dpi = mpl.rcParams['figure.dpi']\n",
    "    height, width = img.shape\n",
    "\n",
    "    # What size does the figure need to be in inches to fit the image?\n",
    "    figsize = width / float(dpi), height / float(dpi)\n",
    "\n",
    "    # Create a figure of the right size with one axes that takes up the full figure\n",
    "    fig = plt.figure(figsize=figsize)\n",
    "    ax = fig.add_axes([0, 0, 1, 1])\n",
    "\n",
    "    # Hide spines, ticks, etc.\n",
    "    ax.axis('off')\n",
    "\n",
    "    # Display the image.\n",
    "    ax.imshow(img, cmap)\n",
    "\n",
    "    plt.show()"
   ]
  },
  {
   "cell_type": "markdown",
   "metadata": {},
   "source": [
    "## Corner detection techniques"
   ]
  },
  {
   "cell_type": "code",
   "execution_count": null,
   "metadata": {},
   "outputs": [],
   "source": [
    "verticle_kernel = cv2.getStructuringElement(cv2.MORPH_RECT, (1, 5))\n",
    "# A horizontal kernel of (kernel_length X 1), which will help to detect all the horizontal line from the image.\n",
    "hori_kernel = cv2.getStructuringElement(cv2.MORPH_RECT, (5, 1))\n",
    "\n",
    "horizontal_lines_img = cv2.erode(img_bin, hori_kernel, iterations=5)\n",
    "horizontal_lines_img = cv2.dilate(horizontal_lines_img, hori_kernel, iterations=5)\n",
    "# morpho close vertical\n",
    "vertical_lines_img = cv2.erode(img_bin, verticle_kernel, iterations=5)\n",
    "vertical_lines_img = cv2.dilate(vertical_lines_img, verticle_kernel, iterations=5)\n",
    "\n",
    "img_final_bin = vertical_lines_img | horizontal_lines_img\n",
    "display((Image.fromarray(img_final_bin)).convert('L'))\n",
    "# # Weighting parameters, this will decide the quantity of an image to be added to make a new image.\n",
    "# alpha = 0.5\n",
    "# beta = 1.0 - alpha\n",
    "# # This function helps to add two image with specific weight parameter to get a third image as summation of two image.\n",
    "# img_final_bin = cv2.addWeighted(vertical_lines_img, alpha, horizontal_lines_img, beta, 0.0)\n",
    "# display((Image.fromarray(com)).convert('L'))"
   ]
  },
  {
   "cell_type": "code",
   "execution_count": null,
   "metadata": {},
   "outputs": [],
   "source": [
    "    dst = cv2.cornerHarris(img_final_bin,2,3,0.04)\n"
   ]
  },
  {
   "cell_type": "code",
   "execution_count": null,
   "metadata": {},
   "outputs": [],
   "source": [
    "mask = np.zeros_like(img)\n",
    "mask[dst>0.05*dst.max()]=[0,0,255]\n",
    "display(Image.fromarray(mask))\n",
    "coordinates = np.argwhere(mask)\n",
    "coordinates"
   ]
  },
  {
   "cell_type": "code",
   "execution_count": null,
   "metadata": {},
   "outputs": [],
   "source": [
    "coor_list = [l.tolist() for l in list(coordinates)]\n",
    "coor_tuples = [tuple(l) for l in coor_list]"
   ]
  },
  {
   "cell_type": "code",
   "execution_count": null,
   "metadata": {},
   "outputs": [],
   "source": [
    "thresh = 15\n",
    "import math\n",
    "def distance(pt1, pt2):\n",
    "    (x1, y1, z), (x2, y2, z) = pt1, pt2\n",
    "    dist = math.sqrt( (x2 - x1)**2 + (y2 - y1)**2 )\n",
    "    return dist\n",
    "save_tuples = coor_tuples.copy()\n",
    "coor_tuples_copy = coor_tuples\n",
    "\n",
    "i = 1\n",
    "removed = 0;\n",
    "for pt1 in coor_tuples:\n",
    "\n",
    "    print(' I :', i)\n",
    "    for pt2  in coor_tuples[i::1]:        \n",
    "        dist = distance(pt1, pt2)\n",
    "        print(pt1, pt2, dist)\n",
    "        if (dist > thresh):\n",
    "            break;\n",
    "        \n",
    "        print('cnt = ' +str(i)+ ', Distance :', dist)\n",
    "        if(dist < thresh):\n",
    "            removed +=1\n",
    "            coor_tuples_copy.remove(pt2)      \n",
    "        \n",
    "    i+=1\n",
    "\n",
    "print(\"Total points original = \"+str(len(save_tuples)))\n",
    "print(\"Total points after = \"+str(len(coor_tuples_copy)))\n",
    "print(\"Total removed = \"+str(removed))\n"
   ]
  },
  {
   "cell_type": "code",
   "execution_count": null,
   "metadata": {},
   "outputs": [],
   "source": [
    "test_img =gray.copy() \n",
    "for point in [tuple([y,x]) for x,y,_ in coor_tuples_copy]:\n",
    "        cv2.circle(test_img, point,5, (0,128,128), 0)\n",
    "\n",
    "plt_show(test_img)"
   ]
  },
  {
   "cell_type": "code",
   "execution_count": null,
   "metadata": {},
   "outputs": [],
   "source": [
    "x_tuples = [tuple([x,y]) for y,x,_ in coor_tuples]\n",
    "y_tuples = [tuple([y,x]) for y,x,_ in coor_tuples]\n",
    "\n",
    "x_dict = {k:tuple(x[1] for x in v) for k,v in it.groupby(sorted(x_tuples), key=lambda x: x[0])}\n",
    "y_dict = {k:tuple(x[1] for x in v) for k,v in it.groupby(sorted(y_tuples), key=lambda x: x[0])}\n",
    "\n",
    "pp.pprint(x_dict)\n",
    "pp.pprint(y_dict)\n",
    "\n",
    "# get_adjacent_nearest_points(points_dict, None)"
   ]
  },
  {
   "cell_type": "code",
   "execution_count": null,
   "metadata": {},
   "outputs": [],
   "source": [
    "only_point_img = cv2.cvtColor(gray,cv2.COLOR_GRAY2RGB)\n",
    "for key in y_dict:    \n",
    "    cv2.circle(only_point_img, (int(y_dict[key][0]), int(key)), 5, (200,200,128), 5)\n",
    "\n",
    "display(Image.fromarray(only_point_img))"
   ]
  },
  {
   "cell_type": "markdown",
   "metadata": {},
   "source": [
    "### Getting the nearest polar coordinates \n",
    "1. for a given x...lookup all y points and then get the shorest distance\n",
    "2. for a given y ... lookup all x points and then get the shortest distance"
   ]
  },
  {
   "cell_type": "code",
   "execution_count": null,
   "metadata": {},
   "outputs": [],
   "source": [
    "def get_adjacent_nearest_points(target_point):\n",
    "    \n",
    "    polr_cords = []\n",
    "    \n",
    "    pp.pprint(points_dict)"
   ]
  },
  {
   "cell_type": "markdown",
   "metadata": {},
   "source": [
    "#### drawing lines over non-rectangles "
   ]
  },
  {
   "cell_type": "code",
   "execution_count": null,
   "metadata": {},
   "outputs": [],
   "source": [
    "(ret, thresh) = cv2.threshold(img_final_bin, 128,255, cv2.THRESH_BINARY | cv2.THRESH_OTSU)\n",
    " # Find contours for image, which will detect all the boxes\n",
    "contours, hierarchy = cv2.findContours(thresh, cv2.RETR_TREE, cv2.CHAIN_APPROX_SIMPLE)\n",
    "\n",
    "id= -1\n",
    "boundRect = [None]*len(contours)\n",
    "overlay_img = cv2.cvtColor(test_img,cv2.COLOR_GRAY2RGB)\n",
    "for cnt in contours:\n",
    "    approx = cv2.approxPolyDP(cnt,0.01*cv2.arcLength(cnt,True),True)    \n",
    "    if len(approx)<=3 and cv2.contourArea(cnt) > 5:\n",
    "#         print(cv2.contourArea(cnt))\n",
    "        color = ((245+id*2 % 255), 90+id*2, 66)\n",
    "        id+=1\n",
    "#       cv2.drawContours(img,[cnt],0,((id*id)%255,(id*10)%255,255),-1)\n",
    "        boundRect[id] = cv2.boundingRect(approx)\n",
    "        cv2.rectangle(overlay_img, (int(boundRect[id][0]), int(boundRect[id][1])), \\\n",
    "          (int(boundRect[id][0]+boundRect[id][2]), int(boundRect[id][1]+boundRect[id][3])), color, 4) \n",
    "        \n",
    "#         x, y, w, h = cv2.boundingRect(cnt) \n",
    "#         r = {'x':x,'y':y,'w':w,'h':h}        \n",
    "#         bounding_rects.append(SimpleNamespace(**r))\n",
    "    elif (len(approx) > 4):\n",
    "#         print(\"poly length = \"+str(approx))\n",
    "#         pp.pprint(approx)\n",
    "        cv2.polylines(overlay_img, approx,True, color, 4) \n",
    "#         x,y,w,h = cv2.boundingRect(approx)\n",
    "#         cv2.rectangle(overlay_img,(x,y),(x+w,y+h), color, 4) \n",
    "        pp.pprint(cv2.boundingRect(approx))\n",
    "        print(\"---------\")\n",
    "        \n",
    "\n",
    "# # img = line_only_img\n",
    "\n"
   ]
  },
  {
   "cell_type": "code",
   "execution_count": null,
   "metadata": {},
   "outputs": [],
   "source": [
    "display(Image.fromarray(overlay_img))"
   ]
  },
  {
   "cell_type": "code",
   "execution_count": null,
   "metadata": {},
   "outputs": [],
   "source": [
    "def sort_contours(cnts, method=\"left-to-right\"):\n",
    "        # initialize the reverse flag and sort index\n",
    "        reverse = False\n",
    "        i = 0\n",
    "    \n",
    "        # handle if we need to sort in reverse\n",
    "        if method == \"right-to-left\" or method == \"bottom-to-top\":\n",
    "            reverse = True\n",
    "    \n",
    "        # the x-coordinate of the bounding box\n",
    "        if method == \"top-to-bottom\" or method == \"bottom-to-top\":\n",
    "            i = 1\n",
    "    \n",
    "        # construct the list of bounding boxes and sort them from top to\n",
    "        # bottom\n",
    "        boundingBoxes = [cv2.boundingRect(c) for c in cnts]\n",
    "        (cnts, boundingBoxes) = zip(*sorted(zip(cnts, boundingBoxes),\n",
    "            key=lambda b:b[1][i], reverse=reverse))\n",
    "    \n",
    "        # return the list of sorted contours and bounding boxes\n",
    "        return (cnts, boundingBoxes)"
   ]
  },
  {
   "cell_type": "code",
   "execution_count": null,
   "metadata": {},
   "outputs": [],
   "source": [
    "def sort_poly(p):\n",
    "    min_axis = np.argmin(np.sum(p, axis=1))\n",
    "    p = p[[min_axis, (min_axis+1)%4, (min_axis+2)%4, (min_axis+3)%4]]\n",
    "    if abs(p[0, 0] - p[1, 0]) > abs(p[0, 1] - p[1, 1]):\n",
    "        return p\n",
    "    else:\n",
    "        return p[[0, 3, 2, 1]]"
   ]
  },
  {
   "cell_type": "code",
   "execution_count": null,
   "metadata": {},
   "outputs": [],
   "source": []
  }
 ],
 "metadata": {
  "kernelspec": {
   "display_name": "py3",
   "language": "python",
   "name": "py3"
  },
  "language_info": {
   "codemirror_mode": {
    "name": "ipython",
    "version": 3
   },
   "file_extension": ".py",
   "mimetype": "text/x-python",
   "name": "python",
   "nbconvert_exporter": "python",
   "pygments_lexer": "ipython3",
   "version": "3.6.8"
  }
 },
 "nbformat": 4,
 "nbformat_minor": 2
}
